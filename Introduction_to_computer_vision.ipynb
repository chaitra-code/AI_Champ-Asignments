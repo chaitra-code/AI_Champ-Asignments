{
  "nbformat": 4,
  "nbformat_minor": 0,
  "metadata": {
    "colab": {
      "name": "Introduction to computer vision.ipynb",
      "provenance": [],
      "collapsed_sections": [],
      "toc_visible": true,
      "include_colab_link": true
    },
    "kernelspec": {
      "name": "python3",
      "display_name": "Python 3"
    },
    "language_info": {
      "name": "python"
    }
  },
  "cells": [
    {
      "cell_type": "markdown",
      "metadata": {
        "id": "view-in-github",
        "colab_type": "text"
      },
      "source": [
        "<a href=\"https://colab.research.google.com/github/chaitra-code/AI-Champ-codes/blob/main/Introduction_to_computer_vision.ipynb\" target=\"_parent\"><img src=\"https://colab.research.google.com/assets/colab-badge.svg\" alt=\"Open In Colab\"/></a>"
      ]
    },
    {
      "cell_type": "markdown",
      "metadata": {
        "id": "M22t0olE4DK2"
      },
      "source": [
        "# Install required dependencies (packages)"
      ]
    },
    {
      "cell_type": "code",
      "metadata": {
        "id": "yPqP5ZCaC26K"
      },
      "source": [
        "%%capture\n",
        "!pip install gdown opencv-python"
      ],
      "execution_count": 13,
      "outputs": []
    },
    {
      "cell_type": "markdown",
      "metadata": {
        "id": "4phgS2Ps4Naa"
      },
      "source": [
        "# Download required workshop assets (zip) and extract it"
      ]
    },
    {
      "cell_type": "code",
      "metadata": {
        "colab": {
          "base_uri": "https://localhost:8080/"
        },
        "id": "mJ9zQ6lWG7up",
        "outputId": "1cf9d117-034b-4072-af0b-5bc945377c7c"
      },
      "source": [
        "!gdown --id 1wq1lukETKxf6_oBlnnVNZJtUmeXuAWOA"
      ],
      "execution_count": 14,
      "outputs": [
        {
          "output_type": "stream",
          "text": [
            "Downloading...\n",
            "From: https://drive.google.com/uc?id=1wq1lukETKxf6_oBlnnVNZJtUmeXuAWOA\n",
            "To: /content/workshop_1_assets.zip\n",
            "\r  0% 0.00/195k [00:00<?, ?B/s]\r100% 195k/195k [00:00<00:00, 71.9MB/s]\n"
          ],
          "name": "stdout"
        }
      ]
    },
    {
      "cell_type": "code",
      "metadata": {
        "id": "n_kRbX4F36pm"
      },
      "source": [
        "!unzip -q workshop_1_assets.zip"
      ],
      "execution_count": 15,
      "outputs": []
    },
    {
      "cell_type": "markdown",
      "metadata": {
        "id": "MvV1iWnz4YCq"
      },
      "source": [
        "# Import packages"
      ]
    },
    {
      "cell_type": "code",
      "metadata": {
        "id": "FBm_30k6HUNf"
      },
      "source": [
        "import numpy as np\n",
        "import cv2\n",
        "import matplotlib.pyplot as plt\n",
        "\n",
        "%matplotlib inline"
      ],
      "execution_count": 16,
      "outputs": []
    },
    {
      "cell_type": "markdown",
      "metadata": {
        "id": "faQoTSxa4dfl"
      },
      "source": [
        "# What is an image?"
      ]
    },
    {
      "cell_type": "markdown",
      "metadata": {
        "id": "vZueBgLo4saq"
      },
      "source": [
        "### Read and see images"
      ]
    },
    {
      "cell_type": "code",
      "metadata": {
        "colab": {
          "base_uri": "https://localhost:8080/",
          "height": 287
        },
        "id": "EsDzsxVk4jKl",
        "outputId": "c5fe2d8e-2d93-46e9-f57b-65b7ac98bc78"
      },
      "source": [
        "image = cv2.imread(\"gift_box.png\")\n",
        "plt.imshow(image)"
      ],
      "execution_count": 17,
      "outputs": [
        {
          "output_type": "execute_result",
          "data": {
            "text/plain": [
              "<matplotlib.image.AxesImage at 0x7f4b82b95990>"
            ]
          },
          "metadata": {
            "tags": []
          },
          "execution_count": 17
        },
        {
          "output_type": "display_data",
          "data": {
            "image/png": "[encoded data removed]",
            "text/plain": [
              "<Figure size 432x288 with 1 Axes>"
            ]
          },
          "metadata": {
            "tags": [],
            "needs_background": "light"
          }
        }
      ]
    },
    {
      "cell_type": "markdown",
      "metadata": {
        "id": "kKROkrMZ5MWm"
      },
      "source": [
        "### Color images and Grayscale images"
      ]
    },
    {
      "cell_type": "code",
      "metadata": {
        "colab": {
          "base_uri": "https://localhost:8080/",
          "height": 287
        },
        "id": "ylTdULi85Lck",
        "outputId": "68513c69-72f9-4f83-b40c-11af1db2aae4"
      },
      "source": [
        "color_image = cv2.imread(\"gift_box.png\")\n",
        "color_image = cv2.cvtColor(color_image, cv2.COLOR_BGR2RGB)\n",
        "plt.imshow(color_image)"
      ],
      "execution_count": 19,
      "outputs": [
        {
          "output_type": "execute_result",
          "data": {
            "text/plain": [
              "<matplotlib.image.AxesImage at 0x7f4b82b18d50>"
            ]
          },
          "metadata": {
            "tags": []
          },
          "execution_count": 19
        },
        {
          "output_type": "display_data",
          "data": {
            "image/png": "[encoded data removed]",
            "text/plain": [
              "<Figure size 432x288 with 1 Axes>"
            ]
          },
          "metadata": {
            "tags": [],
            "needs_background": "light"
          }
        }
      ]
    },
    {
      "cell_type": "code",
      "metadata": {
        "colab": {
          "base_uri": "https://localhost:8080/",
          "height": 287
        },
        "id": "2RWARWeS5mon",
        "outputId": "5263616e-2f8d-4fe7-dc60-82a150969b45"
      },
      "source": [
        "grayscale_image = cv2.imread(\"gift_box.png\", 0)\n",
        "plt.imshow(grayscale_image, cmap='gray')"
      ],
      "execution_count": 20,
      "outputs": [
        {
          "output_type": "execute_result",
          "data": {
            "text/plain": [
              "<matplotlib.image.AxesImage at 0x7f4b82aa4990>"
            ]
          },
          "metadata": {
            "tags": []
          },
          "execution_count": 20
        },
        {
          "output_type": "display_data",
          "data": {
            "image/png": "[encoded data removed]",
            "text/plain": [
              "<Figure size 432x288 with 1 Axes>"
            ]
          },
          "metadata": {
            "tags": [],
            "needs_background": "light"
          }
        }
      ]
    },
    {
      "cell_type": "code",
      "metadata": {
        "colab": {
          "base_uri": "https://localhost:8080/"
        },
        "id": "qEvu_Bc76I_T",
        "outputId": "08748b75-0b34-4d3d-f915-64ea3a447b62"
      },
      "source": [
        "## Color image has 3 channels: R, G and B while grayscale image has only one channel\n",
        "\n",
        "print(f\"Color image shape: {color_image.shape}\\nGrayscale image shape: {grayscale_image.shape}\")"
      ],
      "execution_count": 21,
      "outputs": [
        {
          "output_type": "stream",
          "text": [
            "Color image shape: (851, 1097, 3)\n",
            "Grayscale image shape: (851, 1097)\n"
          ],
          "name": "stdout"
        }
      ]
    },
    {
      "cell_type": "markdown",
      "metadata": {
        "id": "dXLp68vZ7Vut"
      },
      "source": [
        "### See individual channels (R, G, B)"
      ]
    },
    {
      "cell_type": "code",
      "metadata": {
        "colab": {
          "base_uri": "https://localhost:8080/",
          "height": 825
        },
        "id": "inIEtnbJ7aXD",
        "outputId": "9a4ff67a-ab38-4c1c-c64c-0a4d61c85d27"
      },
      "source": [
        "print(\"Channel 1 (Blue): \")\n",
        "plt.imshow(color_image[:, :, 0], cmap='gray')\n",
        "plt.show()\n",
        "\n",
        "print(\"Channel 2 (Green): \")\n",
        "plt.imshow(color_image[:, :, 1], cmap='gray')\n",
        "plt.show()\n",
        "\n",
        "print(\"Channel 3 (Red): \")\n",
        "plt.imshow(color_image[:, :, 2], cmap='gray')\n",
        "plt.show()"
      ],
      "execution_count": 22,
      "outputs": [
        {
          "output_type": "stream",
          "text": [
            "Channel 1 (Blue): \n"
          ],
          "name": "stdout"
        },
        {
          "output_type": "display_data",
          "data": {
            "image/png": "[encoded data removed]",
            "text/plain": [
              "<Figure size 432x288 with 1 Axes>"
            ]
          },
          "metadata": {
            "tags": [],
            "needs_background": "light"
          }
        },
        {
          "output_type": "stream",
          "text": [
            "Channel 2 (Green): \n"
          ],
          "name": "stdout"
        },
        {
          "output_type": "display_data",
          "data": {
            "image/png": "[encoded data removed]",
            "text/plain": [
              "<Figure size 432x288 with 1 Axes>"
            ]
          },
          "metadata": {
            "tags": [],
            "needs_background": "light"
          }
        },
        {
          "output_type": "stream",
          "text": [
            "Channel 3 (Red): \n"
          ],
          "name": "stdout"
        },
        {
          "output_type": "display_data",
          "data": {
            "image/png": "[encoded data removed]",
            "text/plain": [
              "<Figure size 432x288 with 1 Axes>"
            ]
          },
          "metadata": {
            "tags": [],
            "needs_background": "light"
          }
        }
      ]
    },
    {
      "cell_type": "markdown",
      "metadata": {
        "id": "-hbn8p3c8Ft9"
      },
      "source": [
        "### See understanding_channels.png and observe the differences"
      ]
    },
    {
      "cell_type": "markdown",
      "metadata": {
        "id": "PTFYmplU83bn"
      },
      "source": [
        "### What's inside an image?"
      ]
    },
    {
      "cell_type": "code",
      "metadata": {
        "colab": {
          "base_uri": "https://localhost:8080/"
        },
        "id": "Kz4ArSpi8xcJ",
        "outputId": "107bc56b-0b8e-47be-bdce-5646c7322645"
      },
      "source": [
        "low_quality_image = cv2.resize(grayscale_image, (100, 100))\n",
        "\n",
        "with np.printoptions(threshold=np.inf):\n",
        "    print(low_quality_image)"
      ],
      "execution_count": 23,
      "outputs": [
        {
          "output_type": "stream",
          "text": [
            "[[255 255 255 255 255 255 255 255 255 255 255 255 255 255 255 255 255 255\n",
            "  255 255 255 255 255 255 255 255 255 255 255 255 255 255 255 255 255 255\n",
            "  255 255 255 255 255 255 255 255 255 255 255 255 255 255 255 255 255 255\n",
            "  255 255 255 255 255 255 255 255 255 255 255 255 255 255 255 255 255 255\n",
            "  255 255 255 255 255 255 255 255 255 255 255 255 255 255 255 255 255 255\n",
            "  255 255 255 255 255 255 255 255 255 255]\n",
            " [255 255 255 255 255 255 255 255 255 255 255 255 255 255 255 255 255 255\n",
            "  255 255 255 255 255 255 255 255 255 255 255 255 255 255 255 255 255 255\n",
            "  255 255 255 255 255 255 255 255 255 255 255 255 255 255 255 255 255 255\n",
            "  255 255 255 255 255 255 255 255 255 255 255 255 255 255 255 255 255 255\n",
            "  255 255 255 255 255 255 255 255 255 255 255 255 255 255 255 255 255 255\n",
            "  255 255 255 255 255 255 255 255 255 255]\n",
            " [255 255 255 255 255 255 255 255 255 255 255 255 255 255 255 255 255 255\n",
            "  255 255 255 255 255 255 255 255 255 255 255 255 255 255 255 255 255 255\n",
            "  255 255 255 255 255 255 255 255 255 255 255 255 255 255 255 255 255 255\n",
            "  255 255 255 255 255 255 255 255 255 255 255 255 255 255 255 255 255 255\n",
            "  255 255 255 255 255 255 255 255 255 255 255 255 255 255 255 255 255 255\n",
            "  255 255 255 255 255 255 255 255 255 255]\n",
            " [255 255 255 255 255 255 255 255 255 255 255 255 255 255 255 255 255 255\n",
            "  255 255 255 255 255 255 255 255 255 255 255 255 255 255 255 255 255 255\n",
            "  255 255 255 255 255 255 255 255 255 255 255 255 255 255 255 255 255 255\n",
            "  255 255 255 255 255 255 255 255 255 255 255 255 255 255 255 255 255 255\n",
            "  255 255 255 255 255 255 255 255 255 255 255 255 255 255 255 255 255 255\n",
            "  255 255 255 255 255 255 255 255 255 255]\n",
            " [255 255 255 255 255 255 255 255 255 255 255 255 255 255 255 255 255 255\n",
            "  255 255 255 255 255 255 255 255 255 255 255 255 255 255 255 255 255 255\n",
            "  255 255 255 255 255 255 255 255 255 255 255 255 255 255 255 255 255 255\n",
            "  255 255 255 255 255 255 255 255 255 255 255 255 255 255 255 255 255 255\n",
            "  255 255 255 255 255 255 255 255 255 255 255 255 255 255 255 255 255 255\n",
            "  255 255 255 255 255 255 255 255 255 255]\n",
            " [255 255 255 255 255 255 255 255 255 255 255 255 255 255 255 255 255 255\n",
            "  255 255 255 255 255 255 255 255 255 255 255 255 255 255 255 255 255 255\n",
            "  255 255 255 255 255 255 255 255 255 255 255 255 255 255 255 255 255 255\n",
            "  255 255 255 255 255 255 255 255 255 255 255 255 255 255 255 255 255 255\n",
            "  255 255 255 255 255 255 255 255 255 255 255 255 255 255 255 255 255 255\n",
            "  255 255 255 255 255 255 255 255 255 255]\n",
            " [255 255 255 255 255 255 255 255 255 255 255 255 255 255 255 255 255 255\n",
            "  255 255 255 255 255 255 255 255 255 255 255 255 255 255 255 255 255 255\n",
            "  255 255 255 255 255 255 255 255 255 255 255 255 255 255 255 255 255 255\n",
            "  255 255 255 255 255 255 255 255 255 255 255 255 255 255 255 255 255 255\n",
            "  255 255 255 255 255 255 255 255 255 255 255 255 255 255 255 255 255 255\n",
            "  255 255 255 255 255 255 255 255 255 255]\n",
            " [255 255 255 255 255 255 255 255 255 255 255 255 255 255 255 255 255 255\n",
            "  255 255 255 255 255 255 255 255 255 255 255 255 255 255 255 255 255 255\n",
            "  255 255 255 255 255 255 255 255 255 255 255 255 255 255 255 255 255 255\n",
            "  255 255 255 255 255 255 255 255 255 255 255 255 255 255 255 255 255 255\n",
            "  255 255 255 255 255 255 255 255 255 255 255 255 255 255 255 255 255 255\n",
            "  255 255 255 255 255 255 255 255 255 255]\n",
            " [255 255 255 255 255 255 255 255 255 255 255 255 255 255 255 255 255 255\n",
            "  255 255 255 255 255 255 255 255 255 255 255 255 255 255 255 255 255 255\n",
            "  255 255 255 255 255 255 255 255 255 255 255 255 255 255 255 255 255 255\n",
            "  255 255 255 255 255 255 255 255 255 255 255 255 255 255 255 255 255 255\n",
            "  255 255 255 255 255 255 255 255 255 255 255 255 255 255 255 255 255 255\n",
            "  255 255 255 255 255 255 255 255 255 255]\n",
            " [255 255 255 255 255 255 255 255 255 255 255 255 255 255 255 255 255 255\n",
            "  255 255 255 255 255 255 247 233 231 240 253 255 255 255 255 255 255 255\n",
            "  255 255 255 255 255 255 255 255 255 255 255 255 255 255 255 255 255 255\n",
            "  255 255 255 255 255 255 255 255 255 255 255 255 255 255 255 255 255 255\n",
            "  255 255 255 255 255 255 255 255 255 255 255 255 255 255 255 255 255 255\n",
            "  255 255 255 255 255 255 255 255 255 255]\n",
            " [255 255 255 255 255 255 255 255 255 255 255 255 255 255 255 255 255 255\n",
            "  255 255 255 231 230 230 230 230 230 230 230 230 230 255 255 255 255 255\n",
            "  255 255 255 255 255 255 255 255 255 255 255 255 255 255 255 255 255 255\n",
            "  255 255 255 255 255 255 255 255 255 255 255 255 255 255 255 255 255 255\n",
            "  255 255 255 255 255 255 255 255 255 255 255 255 255 255 255 255 255 255\n",
            "  255 255 255 255 255 255 255 255 255 255]\n",
            " [255 255 255 255 255 255 255 255 255 255 255 255 255 255 255 255 255 255\n",
            "  255 233 230 230 230 230 230 230 230 230 230 230 230 230 230 255 255 255\n",
            "  255 255 255 255 255 255 255 255 255 255 255 255 255 255 255 255 255 255\n",
            "  255 255 255 255 255 255 255 255 255 255 255 255 255 255 255 255 255 255\n",
            "  255 255 255 255 255 255 255 255 255 255 255 255 255 255 255 255 255 255\n",
            "  255 255 255 255 255 255 255 255 255 255]\n",
            " [255 255 255 255 255 255 255 255 255 255 255 255 255 255 255 255 255 255\n",
            "  230 230 230 230 230 230 230 230 230 230 230 230 230 230 230 230 247 255\n",
            "  255 255 255 255 255 255 255 255 255 255 255 255 255 255 255 255 255 255\n",
            "  255 255 255 255 255 255 255 255 255 255 255 255 255 255 255 255 255 255\n",
            "  255 255 255 255 255 255 255 255 255 255 255 255 255 255 255 255 255 255\n",
            "  255 255 255 255 255 255 255 255 255 255]\n",
            " [255 255 255 255 255 255 255 255 255 255 255 255 255 255 255 255 255 230\n",
            "  230 230 230 230 230 230 230 230 230 230 230 230 230 230 230 230 230 235\n",
            "  255 255 255 255 255 255 255 255 255 255 255 255 255 255 255 255 255 255\n",
            "  255 255 255 255 255 255 255 255 255 255 255 255 255 255 255 255 255 255\n",
            "  255 255 255 255 255 255 255 255 255 255 255 255 255 255 255 255 255 255\n",
            "  255 255 255 255 255 255 255 255 255 255]\n",
            " [255 255 255 255 255 255 255 255 255 255 255 255 255 255 255 255 230 230\n",
            "  230 230 230 230 230 230 230 230 230 230 230 230 230 230 230 230 230 230\n",
            "  244 255 255 255 255 255 255 255 255 255 255 255 255 255 255 255 255 255\n",
            "  255 255 255 255 255 255 255 255 255 255 255 255 255 255 255 255 255 255\n",
            "  255 255 255 255 255 255 255 255 255 255 255 255 255 255 255 255 255 255\n",
            "  255 255 255 255 255 255 255 255 255 255]\n",
            " [255 255 255 255 255 255 255 255 255 255 255 255 255 255 255 230 230 230\n",
            "  230 230 230 230 230 230 230 230 230 230 230 230 230 230 230 230 230 230\n",
            "  230 255 255 255 255 255 255 255 255 255 255 255 255 255 255 255 255 255\n",
            "  255 255 255 255 255 255 255 255 255 255 255 255 255 255 255 255 255 255\n",
            "  255 255 255 255 255 255 255 255 255 255 255 255 255 255 255 255 255 255\n",
            "  255 255 255 255 255 255 255 255 255 255]\n",
            " [255 255 255 255 255 255 255 255 255 255 255 255 255 255 241 230 230 230\n",
            "  230 230 230 230 230 230 230 230 230 230 230 230 230 230 230 230 230 230\n",
            "  230 230 255 255 255 255 255 255 255 255 255 255 255 255 255 255 255 255\n",
            "  255 255 255 255 255 255 255 255 255 255 255 255 255 255 255 255 255 255\n",
            "  255 255 255 255 255 255 255 255 255 255 255 255 255 255 255 255 255 255\n",
            "  255 255 255 255 255 255 255 255 255 255]\n",
            " [255 255 255 255 255 255 255 255 255 255 255 255 255 255 230 230 230 230\n",
            "  230 230 230 230 230 230 230 230 230 230 230 230 230 230 230 230 230 230\n",
            "  230 230 232 255 255 255 255 255 255 255 255 255 255 255 255 255 255 255\n",
            "  255 255 255 255 255 255 255 255 255 255 255 255 255 255 255 255 255 255\n",
            "  255 255 255 255 255 255 255 255 255 255 255 255 255 255 255 255 255 255\n",
            "  255 255 255 255 255 255 255 255 255 255]\n",
            " [255 255 255 255 255 255 255 255 255 255 255 255 255 230 230 230 230 230\n",
            "  230 230 230 230 230 230 230 230 230 230 230 230 230 230 230 230 230 230\n",
            "  230 230 230 255 255 255 255 255 255 255 255 255 255 255 255 255 255 255\n",
            "  255 255 255 255 255 255 255 255 255 255 255 255 255 255 255 255 255 255\n",
            "  255 255 255 255 255 255 255 255 255 255 255 255 255 255 255 255 255 255\n",
            "  255 255 255 255 255 255 255 255 255 255]\n",
            " [255 255 255 255 255 255 255 255 255 255 255 255 255 230 230 230 230 230\n",
            "  230 230 230 230 230 230 230 230 230 230 230 230 230 230 230 230 230 230\n",
            "  230 230 230 232 255 255 255 255 255 255 255 255 255 255 255 255 255 255\n",
            "  255 255 255 255 255 255 255 255 255 255 255 255 255 255 255 255 255 255\n",
            "  255 255 255 255 255 255 255 255 255 255 255 255 255 255 255 255 255 255\n",
            "  255 255 255 255 255 255 255 255 255 255]\n",
            " [255 255 255 255 255 255 255 255 255 255 255 255 240 230 230 230 230 230\n",
            "  230 230 230 230 230 230 230 230 230 230 230 230 230 230 230 230 230 230\n",
            "  230 230 230 230 255 255 255 255 255 255 255 255 255 255 255 255 255 255\n",
            "  255 255 255 255 255 255 255 255 255 255 255 255 255 255 255 255 255 255\n",
            "  255 255 255 255 255 255 255 255 255 255 255 255 255 255 255 255 255 255\n",
            "  255 255 255 255 255 255 255 255 255 255]\n",
            " [255 255 255 255 255 255 255 255 255 255 255 255 230 230 230 230 230 230\n",
            "  230 230 230 230 230 230 230 230 230 230 230 230 230 230 230 230 230 230\n",
            "  230 230 230 230 255 255 255 255 255 255 255 255 255 255 255 255 255 255\n",
            "  255 255 255 255 255 255 255 255 255 255 255 255 255 255 255 255 255 255\n",
            "  255 255 255 255 255 255 255 255 255 255 255 255 255 255 255 255 255 255\n",
            "  255 255 255 255 255 255 255 255 255 255]\n",
            " [255 255 255 255 255 255 255 255 255 255 255 255 230 230 230 230 230 230\n",
            "  230 230 230 230 230 230 230 230 230 230 230 230 230 230 230 230 230 230\n",
            "  230 230 230 230 230 255 255 255 255 255 255 255 255 255 255 255 255 255\n",
            "  255 255 255 255 255 255 255 255 255 255 255 255 255 255 255 255 255 255\n",
            "  255 255 255 255 255 255 255 255 255 255 255 255 255 255 255 255 255 255\n",
            "  255 255 255 255 255 255 255 255 255 255]\n",
            " [255 255 255 255 255 255 255 255 255 255 255 255 230 230 230 230 230 230\n",
            "  230 230 230 230 230 230 230 230 230 230 230 230 230 230 230 230 230 230\n",
            "  230 230 230 230 230 255 255 255 255 255 255 255 255 255 255 255 255 255\n",
            "  255 255 255 255 255 255 255 255 255 255 255 255 255 255 255 255 255 255\n",
            "  255 255 255 255 255 255 255 255 255 255 255 255 255 255 255 255 255 255\n",
            "  255 255 255 255 255 255 255 255 255 255]\n",
            " [255 255 255 255 255 255 255 255 255 255 255 230 230 230 230 230 230 230\n",
            "  230 230 230 230 230 230 230 230 230 230 230 230 230 230 230 230 230 230\n",
            "  230 230 230 230 230 255 255 255 255 255 255 255 255 255 255 255 255 255\n",
            "  255 255 255 255 255 255 255 255 255 255 255 255 255 255 255 255 255 255\n",
            "  255 255 255 255 255 255 255 255 255 255 255 255 255 255 255 255 255 255\n",
            "  255 255 255 255 255 255 255 255 255 255]\n",
            " [255 255 255 255 255 255 255 255 255 255 255 230 230 230 230 230 230 230\n",
            "  230 230 230 230 230 230 230 230 230 230 230 230 230 230 230 230 230 230\n",
            "  230 230 230 230 230 255 255 255 255 255 255 255 255 255 255 255 255 255\n",
            "  255 255 255 255 255 255 255 255 255 255 255 255 255 255 255 255 255 255\n",
            "  255 255 255 255 255 255 255 255 255 255 255 255 255 255 255 255 255 255\n",
            "  255 255 255 255 255 255 255 255 255 255]\n",
            " [255 255 255 255 255 255 255 255 255 255 255 230 230 230 230 230 230 230\n",
            "  230 230 230 230 230 230 230 230 230 230 230 230 230 230 230 230 230 230\n",
            "  230 230 230 230 230 255 255 255 255 255 255 255 255 255 255 255 255 255\n",
            "  255 255 255 255 255 255 255 255 255 255 255 255 255 255 255 255 255 255\n",
            "  255 255 255 255 255 255 255 255 255 255 255 255 255 255 255 255 255 255\n",
            "  255 255 255 255 255 255 255 255 255 255]\n",
            " [255 255 255 255 255 255 255 255 255 255 255 230 230 230 230 230 230 230\n",
            "  230 230 230 230 230 230 230 230 230 230 230 230 230 230 230 230 230 230\n",
            "  230 230 230 230 230 251 255 255 255 255 255 255 255 255 255 255 255 255\n",
            "  255 255 255 255 255 255 255 255 255 255 255 255 255 255 255 255 255 255\n",
            "  255 255 255 255 255 255 255 255 255 255 255 255 255 255 255 255 255 255\n",
            "  255 255 255 255 255 255 255 255 255 255]\n",
            " [255 255 255 255 255 255 255 255 255 255 255 230 230 230 230 230 230 230\n",
            "  230 230 230 230 230 230 230 230 230 230 230 230 230 230 230 230 230 230\n",
            "  230 230 230 230 230 247 255 255 255 255 255 255 255 255 255 255 255 255\n",
            "  255 255 255 255 255 255 255 255 255 255 255 255 255 255 255 255 255 255\n",
            "  255 255 255 255 255 255 255 255 255 255 255 255 255 255 255 255 255 255\n",
            "  255 255 255 255 255 255 255 255 255 255]\n",
            " [255 255 255 255 255 255 255 255 255 255 255 230 230 230 230 230 230 230\n",
            "  230 230 230 230 230 230 230 230 209 230 230 230 230 230 230 230 230 230\n",
            "  230 230 230 230 230 247 255 255 255 255 255 255 255 255 255 255 255 255\n",
            "  255 255 255 255 255 255 255 255 255 255 255 255 255 255 255 255 255 255\n",
            "  255 255 255 255 255 255 255 255 255 255 255 255 255 255 255 255 255 255\n",
            "  255 255 255 255 255 255 255 255 255 255]\n",
            " [255 255 255 255 255 255 255 255 255 255 255 230 230 230 230 230 230 230\n",
            "  230 230 230 230 230 230 230 230 206 230 230 230 230 230 230 230 230 230\n",
            "  230 230 230 230 230 251 255 255 255 255 255 255 255 255 255 255 255 255\n",
            "  255 255 255 255 255 255 255 255 255 255 255 255 255 255 255 255 255 255\n",
            "  255 255 255 255 255 255 255 255 255 255 255 255 255 255 255 255 255 255\n",
            "  255 255 255 255 255 255 255 255 255 255]\n",
            " [255 255 255 255 255 255 255 255 255 255 255 230 230 230 230 230 230 230\n",
            "  230 230 230 230 230 230 230 230 205 230 230 230 230 230 230 230 230 230\n",
            "  230 230 230 230 230 255 255 255 255 255 255 255 255 255 255 255 255 255\n",
            "  255 255 255 255 255 255 255 255 255 255 255 255 255 255 255 255 255 255\n",
            "  255 255 255 255 255 255 255 255 255 255 255 255 255 255 255 255 255 255\n",
            "  255 255 255 255 255 255 255 255 255 255]\n",
            " [255 255 255 255 255 255 255 255 255 255 255 230 230 230 230 230 230 230\n",
            "  230 230 230 230 230 230 230 230 204 230 230 230 230 230 230 230 230 230\n",
            "  230 230 230 230 230 255 255 255 255 255 255 255 255 255 255 255 255 255\n",
            "  255 255 255 255 255 255 255 255 255 255 255 255 255 255 255 255 255 255\n",
            "  255 255 255 255 255 255 255 255 255 255 255 255 255 255 255 255 255 255\n",
            "  255 255 255 255 255 255 255 255 255 255]\n",
            " [255 255 255 255 255 255 255 255 255 255 255 230 230 230 230 230 230 230\n",
            "  230 230 230 230 230 230 230 230 204 230 230 230 230 230 230 230 230 230\n",
            "  230 230 230 230 230 255 255 255 255 255 255 255 255 255 255 255 255 255\n",
            "  255 255 255 255 255 255 255 255 255 255 255 255 255 255 255 255 255 255\n",
            "  255 255 255 255 255 255 255 255 255 255 255 255 255 255 255 255 255 255\n",
            "  255 255 255 255 255 255 255 255 255 255]\n",
            " [255 255 255 255 255 255 255 255 255 255 255 254 230 230 230 230 230 230\n",
            "  230 230 230 230 230 230 230 230 204 230 230 230 230 230 230 230 230 230\n",
            "  230 230 230 230 230 255 255 255 255 255 255 255 255 255 255 255 255 255\n",
            "  255 255 255 255 255 255 255 255 255 255 255 255 255 255 255 255 255 255\n",
            "  255 255 255 255 255 255 255 255 255 255 255 255 255 255 255 255 255 255\n",
            "  255 255 255 255 255 255 255 255 255 255]\n",
            " [255 255 255 255 255 255 255 255 255 255 255 255 230 230 230 230 230 230\n",
            "  230 230 230 230 230 230 230 230 205 230 230 230 230 230 230 230 230 230\n",
            "  230 230 230 230 230 255 255 255 255 255 255 255 255 255 255 255 255 255\n",
            "  255 255 255 255 255 255 255 255 255 255 255 255 255 255 255 255 255 255\n",
            "  255 255 255 255 255 255 255 255 255 255 255 255 255 255 255 255 255 255\n",
            "  255 255 255 255 255 255 255 255 255 255]\n",
            " [255 255 255 255 255 255 255 255 255 255 255 255 230 230 230 230 230 230\n",
            "  230 230 230 230 230 230 230 230 205 230 230 230 204 230 230 230 230 230\n",
            "  230 230 230 230 255 255 255 255 255 255 255 255 255 255 255 255 255 255\n",
            "  255 255 255 255 255 255 255 255 255 255 255 255 255 255 255 255 255 255\n",
            "  255 255 255 255 255 255 255 255 255 255 255 255 255 255 255 255 255 255\n",
            "  255 255 255 255 255 255 255 255 255 255]\n",
            " [255 255 255 255 255 255 255 255 255 255 255 255 235 230 230 230 230 230\n",
            "  230 230 230 230 230 230 230 230 204 230 230 204 226 230 230 230 230 230\n",
            "  230 230 230 230 255 255 255 255 255 255 255 255 255 255 255 255 255 255\n",
            "  255 255 255 255 255 255 255 255 255 255 255 255 255 255 255 255 255 255\n",
            "  255 255 255 255 255 255 255 255 255 255 255 255 255 255 255 255 255 255\n",
            "  255 255 255 255 255 255 255 255 255 255]\n",
            " [255 255 255 255 255 255 255 255 255 255 255 255 255 230 230 230 230 230\n",
            "  230 230 230 230 230 230 230 230 205 218 204 230 230 230 230 230 230 230\n",
            "  230 230 230 230 255 255 255 255 255 255 255 255 255 255 255 255 255 255\n",
            "  255 255 255 255 255 255 255 255 255 255 255 255 255 255 255 255 255 255\n",
            "  255 255 255 255 255 255 255 255 255 255 255 255 255 255 255 255 255 255\n",
            "  255 255 255 255 255 255 255 255 255 255]\n",
            " [255 255 255 255 255 255 255 255 255 255 255 255 255 230 230 230 230 230\n",
            "  230 205 230 230 230 230 230 230 204 204 230 230 230 230 230 230 230 230\n",
            "  230 230 230 255 255 255 255 255  48  48 236 255 255 255 255 255 255 255\n",
            "  255 255 255 255 255 255 255 255 255 255 255 255 255 255 255 255 255 255\n",
            "  255 255 255 255 255 255 255 255 255 255 255 255 255 255 255 255 255 255\n",
            "  255 255 255 255 255 255 255 255 255 255]\n",
            " [255 255 255 255 255 255 255 255 255 255 255 255 255 255 230 230 230 230\n",
            "  230 221 204 230 230 230 230 230 204 230 230 230 230 230 230 230 230 230\n",
            "  230 230 230 255 255 255 255  48  48  48  48  48 255 255 255 255 255 255\n",
            "  255 255 255 255 255 255 255 255 255 255 255 255 255 255 255 255 255 255\n",
            "  255 255 255 255 255 255 255 255 255 255 255 255 255 255 255 255 255 255\n",
            "  255 255 255 255 255 255 255 255 255 255]\n",
            " [255 255 255 255 255 255 255 255 255 255 255 255 255 255 233 230 230 230\n",
            "  230 230 230 204 226 230 230 230 205 230 230 230 230 230 230 230 230 230\n",
            "  230 230 255 255 255 255  85  48  48  48  48  48  50 255 255 255 255 255\n",
            "  255 255 255 255 255 255 255 255 255 255 255 255 255 255 255 255 255 255\n",
            "  255 255 255 255 255 255 255 255 255 255 255 255 255 255 255 255 255 255\n",
            "  255 255 255 255 255 255 255 255 255 255]\n",
            " [255 255 255 255 255 255 255 255 255 255 255 255 255 255 255 230 230 230\n",
            "  230 230 230 230 204 205 230 230 205 230 230 230 230 230 230 230 230 230\n",
            "  230 230 255 255 255 255  48  48  48  48  48  48  48 253 255 255 255 255\n",
            "  255 255 255 255 255 255 255 255 255 255 255 255 255 255 255 255 255 255\n",
            "  255 255 255 255 255 255 255 255 255 255 255 255 255 255 255 255 255 255\n",
            "  255 255 255 255 255 255 255 255 255 255]\n",
            " [255 255 255 255 255 255 255 255 255 255 255 255 255 255 255 230 230 230\n",
            "  230 230 230 230 230 204 204 230 204 230 230 230 230 230 230 230 230 230\n",
            "  230 230 230 255 255 255  48  48  48  48  48  48  48 195 255 255 255 255\n",
            "  255 255 255 255 255 255 255 255 255 255 255 255 255 255 255 255 255 255\n",
            "  255 255 255 255 255 255 255 255 255 255 255 255 255 255 255 255 255 255\n",
            "  255 255 255 255 255 255 255 255 255 255]\n",
            " [255 255 255 255 255 255 255 255 255 255 255 255 255 255 230 230 230 230\n",
            "  230 230 230 230 230 230 218 204 204 230 230 230 230 230 230 230 230 230\n",
            "  230 230 230 230 255 255  48  48  48  48  48 205 205 255 255 255 255 255\n",
            "  255 255 255 255 255 255 255 255 255 255 255 255 255 255 255 255 255 255\n",
            "  255 255 255 255 255 255 255 255 255 255 255 255 255 255 255 255 255 255\n",
            "  255 255 255 255 255 255 255 255 255 255]\n",
            " [255 255 255 255 255 255 255 255 255 255 255 255 255 230 230 230 230 230\n",
            "  230 230 230 230 230 230 230 230 205 230 230 230 230 230 230 230 230 230\n",
            "  230 230 230 230 255 255  48  48  48  48 205 205 222 255 255 255 255 255\n",
            "  255 255 255 255 255 255 255 255 255 255 255 255 255 255 255 254 150 255\n",
            "  255 255 255 255 255 255 255 255 255 255 255 255 255 255 255 255 255 255\n",
            "  255 255 255 255 255 255 255 255 255 255]\n",
            " [255 255 255 255 255 255 255 255 255 255 255 255 236 230 230 230 230 230\n",
            "  230 230 230 230 230 230 230 230 204 230 230 230 230 230 230 230 230 230\n",
            "  230 230 230 230 230 255  49  48  48  48 205 205 255 255 255 255 255 255\n",
            "  255 255 255 255 255 255 255 255 255 255 255 255 255 255 150 150 150 255\n",
            "   78 255 255 255 255 255 255 255 255 255 255 255 255 255 255 255 255 255\n",
            "  255 255 255 255 255 255 255 255 255 255]\n",
            " [255 255 255 255 255 255 255 255 255 255 255 255 230 230 230 230 230 230\n",
            "  230 230 230 230 230 230 230 230 204 230 230 230 230 230 230 230 230 230\n",
            "  230 230 230 230 230 255 255  48  48  48 240 255 255 255 255 255 255 255\n",
            "  255 255 255 255 255 255 255 255 255 255 255 255 255 150 150  77 150 150\n",
            "  255 255 255 255 255 255 255 255 255 255 255 255 255 255 255 255 255 255\n",
            "  255 255 255 255 255 255 255 255 255 255]\n",
            " [255 255 255 255 255 255 255 255 255 255 255 255 230 230 230 230 230 230\n",
            "  230 230 230 230 230 230 230 230 205 230 230 230 230 230 230 230 230 230\n",
            "  230 230 230 230 230 255 255 255 244  58 255 255 255 255 255 255 255 255\n",
            "  255 255 255 255 255 255 255 255 255 255 255 255 255 150  72 150 150 150\n",
            "  255 217 255 255 255 255 255 255 255 255 255 255 255 255 255 255 255 255\n",
            "  255 255 255 255 255 255 255 255 255 255]\n",
            " [255 255 255 255 255 255 255 255 255 255 255 230 230 230 230 230 230 230\n",
            "  230 230 230 230 230 230 230 230 204 230 230 230 230 230 230 230 230 230\n",
            "  230 230 230 230 230 230 255  82  48  48  48 247 255 255 255 255 255 255\n",
            "  255 255 255 255 255 255 255 255 255 255 255 255 255 255 150 150 150 150\n",
            "  201 255 255 255 255 255 255 255 255 255 255 255 255 255 255 255 255 255\n",
            "  255 255 255 255 255 255 255 255 255 255]\n",
            " [255 255 255 255 255 255 255 255 255 255 255 230 230 230 230 230 230 230\n",
            "  230 230 230 230 230 230 230 230 204 230 230 230 230 230 230 230 230 230\n",
            "  230 230 230 230 230 230 255  48  48  48  48  48 255 255 255 255 255 255\n",
            "  255 255 255 255 255 255 255 255 255 255 255 255 255 255 150  50 150 255\n",
            "  255 244 255 255 255 255 255 255 255 255 255 255 255 255 255 255 255 255\n",
            "  255 255 255 255 255 255 255 255 255 255]\n",
            " [255 255 255 255 255 255 255 255 255 255 255 230 230 230 230 230 230 230\n",
            "  230 230 230 230 230 230 230 230 205 230 230 230 230 230 230 230 230 230\n",
            "  230 230 230 230 230 230 255  48  48  48  48  48  48 255 255 255 255 255\n",
            "  255 255 255 255 255 255 255 255 255 255 255 255 255 255 255 150 255 255\n",
            "   59 255 255 255 255 255 255 255 255 255 255 255 255 255 255 255 255 255\n",
            "  255 255 255 255 255 255 255 255 255 255]\n",
            " [255 255 255 255 255 255 255 255 255 255 255 230 230 230 230 230 230 230\n",
            "  230 230 230 230 230 230 230 230 204 230 230 230 230 230 230 230 230 230\n",
            "  230 230 230 230 230 230 242  48  48  49  48  48  48 254 255 255 255 255\n",
            "  255 255 255 255 255 255 255  87 255 208 208 249 255 255 255 255 198 246\n",
            "  255 255 255 255 255 255 255 255 255 255 255 255 255 255 255 255 255 255\n",
            "  255 255 255 255 255 255 255 255 255 255]\n",
            " [255 255 255 255 255 255 255 255 255 255 255 230 230 230 230 230 230 230\n",
            "  230 222 230 230 230 230 230 230 204 230 230 230 230 230 230 230 230 230\n",
            "  230 230 230 230 230 230 255  48  48  48  48  48  48  48 255 255 255 255\n",
            "  255 255 255 255 255 255 255 255 227 208  51 208 208 255 255 255 255 255\n",
            "  255 255 255 255 255 255 255 255 255 255 255 255 255 255 255 255 255 255\n",
            "  255 255 255 255 255 255 255 255 255 255]\n",
            " [255 255 255 255 255 255 255 255 255 255 255 230 230 230 230 230 230 230\n",
            "  230 220 230 230 230 230 230 230 205 230 230 230 230 230 230 230 230 230\n",
            "  230 230 230 230 230 232 255  48  48  48  48  48  48  48 255 255 255 255\n",
            "  255 255 255 255 255 255 230 255 208 208 208 208 209 255 255 255 255 255\n",
            "  255 255 255 255 255 255 255 255 255 255 255 255 255 255 255 255 255 255\n",
            "  255 255 255 255 255 255 255 255 255 255]\n",
            " [255 255 255 255 255 255 255 255 255 255 255 230 230 230 230 230 230 230\n",
            "  230 220 230 230 230 230 230 230 204 230 230 230 230 230 230 230 230 230\n",
            "  230 230 230 230 230 255 255  48  48  48  48  48  48  48 255 255 255 255\n",
            "  255 255 255 255 255 255  81 255 208 208 207 208 255 255 255 255 255 255\n",
            "  255 255 255 255 255 255 255 255 255 255 255 255 255 255 255 255 255 255\n",
            "  255 255 255 255 255 255 255 255 255 255]\n",
            " [255 255 255 255 255 255 255 255 255 255 255 230 230 230 230 230 230 230\n",
            "  230 219 230 230 230 230 230 230 204 230 230 230 204 230 230 230 230 230\n",
            "  230 230 230 230 230 255 255  48  48  48  48  48  48  48 255 255 255 255\n",
            "  255 255 255 255 255 255 255 255 208 208  51 208 255 255 255 255 255 255\n",
            "  255 255 255 255 255 255 255 255 255 255 255 255 255 255 255 255 255 255\n",
            "  255 255 255 255 255 255 255 255 255 255]\n",
            " [255 255 255 255 255 255 255 255 255 255 255 255 230 230 230 230 230 230\n",
            "  230 219 230 229 209 230 230 230 205 230 230 230 230 204 230 230 230 230\n",
            "  230 230 230 230 230 255 255  48  48  48  48  48  48  48 255 255 255 255\n",
            "  255 255 255 255 255 255 123 255 255 250 208 208 255 255 255 255 255 255\n",
            "  255 255 255 255 255 255 255 255 255 255 255 255 255 255 255 255 255 255\n",
            "  255 255 255 255 255 255 255 255 255 255]\n",
            " [255 255 255 255 255 255 255 255 255 255 255 255 230 230 230 230 230 230\n",
            "  230 220 208 229 230 230 230 230 205 230 230 214 204 230 226 230 230 230\n",
            "  204 230 230 230 255 255 255  48  48  48  48  48  48  48 255 255 255 255\n",
            "  255 255 255 255 255 255 255 255 232 185 255 255 255 255 255 255 255 255\n",
            "  255 244 255 255 255 255 255 255 255 255 255 255 255 255 255 255 255 255\n",
            "  255 255 255 255 255 255 255 255 255 255]\n",
            " [255 255 255 255 255 255 255 255 255 255 255 255 251 230 230 230 204 230\n",
            "  230 219 230 230 230 230 230 230 204 230 204 204 230 230 230 230 230 204\n",
            "  230 230 230 233 255 255 255  48  48  48  48  48 136  48 255 255 255 255\n",
            "  255 255 255 255 255 255 255 255 255 255 255 255 255 255 255 255 255 255\n",
            "  119 119 255 255 255 255 255 255 255 255 255 255 255 255 255 255 255 255\n",
            "  255 255 255 255 255 255 255 255 255 255]\n",
            " [255 255 255 255 255 255 255 255 255 255 255 255 255 230 230 230 230 204\n",
            "  230 219 230 230 230 230 230 230 205 204 208 230 230 230 230 216 223 230\n",
            "  230 230 230 255 255 255 255 255 111  48  48 205 205  48 255 255 255 255\n",
            "  255 255 255 255 255 255 255 255 255 255 255 255 255 255 255 255 255 119\n",
            "  119 119 119 255 255 255 255 255 255 255 255 255 255 255 255 255 255 255\n",
            "  255 255 255 255 255 255 255 255 255 255]\n",
            " [255 255 255 255 255 255 255 255 255 255 255 255 255 255 230 230 230 230\n",
            "  204 220 230 230 230 230 230 230 204 252 230 230 230 230 230 230 230 230\n",
            "  230 230 255 255 255 255 255 255 205  48  48 115 205  54 255 255 255 255\n",
            "  255 255 255 255 255 255 255 255 255 255 255 255 255 255  76 255 255 119\n",
            "  119 119 119 225 255 255 255 255 255 255 255 255 255 255 255 255 255 255\n",
            "  255 255 255 255 255 255 255 255 255 255]\n",
            " [255 255 255 255 255 255 255 255 255 255 255 255 255 255 255 230 230 230\n",
            "  230 219 230 230 230 230 233 255 205 255 255 244 230 230 230 230 230 230\n",
            "  254 255 255 255 255 255 255 255 110  48  48  48 205 204 255 255 255 255\n",
            "  255 255 255 255 255 255 255 255 255 255 255 255 208 208 207 255 255 119\n",
            "  119 119 119 119 255 255 255 255  64 255 255 255 255 255 255 255 255 255\n",
            "  255 255 255 255 255 255 255 255 255 255]\n",
            " [255 255 255 255 255 255 255 255 255 255 255 255 255 255 255 255 243 230\n",
            "  230 220 230 230 230 255 255 255 205 255 255 255 255 255 255 255 255 255\n",
            "  255 255 255 255 255 255 255 255  48  48  48  48 205 205 157 255 255 255\n",
            "  255 255 255 255 255 255 255 255 255 255 255 220 208 208 208 255 255 255\n",
            "  119 119 119 119 120 255 255  64  64  64 255 255 255 255 255 255 255 255\n",
            "  255 255 255 255 255 255 255 255 255 255]\n",
            " [255 255 255 255 255 255 255 255 255 255 255 255 255 255 255 255 255 255\n",
            "  255 234 255 255 255 255 255 255 205 255 255 255 255 255 255 255 255 255\n",
            "  255 255 255 255 255 255 255 255  48  48  48  48 205 205  48 255 255 255\n",
            "  255 255 255 255 255 255 255 255 255 255 255 251 208 208 208 255 255 255\n",
            "  130 119 119 119 119 255 241  64  64  64 250 255 255 255 255 255 255 255\n",
            "  255 255 255 255 255 255 255 255 255 255]\n",
            " [255 255 255 255 255 255 255 255 255 255 255 255 255 255 255 255 255 255\n",
            "  255 234 255 255 255 255 255 255 205 255 255 255 255 255 255 255 255 255\n",
            "  255 255 255 255 255 255 255 255  48  48  48  48 167 205  48 255 255 255\n",
            "  255 255 255 255 255 255 255 255 255 255 255 255 208 132 255  82 255 255\n",
            "  255 119 119 119 119 119  64  64  64  64  82 255 255 255 255 255 255 255\n",
            "  255 255 255 255 255 255 255 255 255 255]\n",
            " [255 255 255 255 255 255 255 255 255 255 255 255 255 255 255 255 255 255\n",
            "  255 235 255 255 255 255 255 255 205 255 255 255 255 255 255 255 255 255\n",
            "  255 255 255 255 255 255 255  63  48  48  48  48  48 205  48 255 255 255\n",
            "  255 255 255 255 255 255 255 255 255 255 255 255 255 255 255 255 255 255\n",
            "  255 247 119 119 119 119 162  64  64  64 213 255 255 255 255 255 255 255\n",
            "  255 255 255 255 255 255 255 255 255 255]\n",
            " [255 255 255 255 255 255 255 255 255 255 255 255 255 255 255 255 255 255\n",
            "  255 235 255 255 255 255 255 255 205 255 255 255 255 255 255 255 255 255\n",
            "  255 255 255 255 255 255 255  48  48  48  48  48  48 205 173 255 255 255\n",
            "  255 255 255 255 255 255 255 255 255 255 255 255 255 255  64  64  64 164\n",
            "  255 255 119 119 119 119  81  64  64  64  64  64 255 255 255 255 255 255\n",
            "  255 255 255 255 255 255 255 255 255 255]\n",
            " [255 255 255 255 255 255 255 255 255 255 255 255 255 255 255 255 255 255\n",
            "  255 235 255 255 255 255 255 255 205 255 255 255 249 255 255 255 255 255\n",
            "  255 255 255 255 255 255 255  48  48  48  48  48  48 205 205 255 255 255\n",
            "  255 255 255 255 255 255 249 119 119 119 119 119 119 119  64  64  64  64\n",
            "  119 107 107 119 119  78  64  64  64  64  64  64  64 255 255 255 255 255\n",
            "  255 255 255 255 255 255 255 255 255 255]\n",
            " [255 255 255 255 255 255 255 255 255 255 255 255 255 255 255 255 255 255\n",
            "  255 234 255 255 206 255 255 255 205 255 255 255 254 206 255 255 255 255\n",
            "  255 255 255 255 255 255 255  48  48  48  48  48  48 205 205 255 255 255\n",
            "  255 255 255 255 255 255 241 119 119 119 119 119 119 119  64  64  64  64\n",
            "  119 119 107 119  70  64  64  64  64  64  64  64  64  74 255 255 255 255\n",
            "  255 255 255 255 255 255 255 255 255 255]\n",
            " [255 255 255 255 255 255 255 255 255 255 255 255 255 255 255 255 255 255\n",
            "  255 235 255 204 255 255 255 255 205 255 255 255 255 255 204 255 255 255\n",
            "  255 255 255 255 255 255  48  48  48  48  48  48  48 130 205 255 255 255\n",
            "  255 255 255 255 255 255 241 119 119 119 119 119 119 119  64  64  64  64\n",
            "  119 119 113 107  64  64  64  64  64  64  64  64  64 255 255 255 255 255\n",
            "  255 255 255 255 255 255 255 255 255 255]\n",
            " [255 255 255 255 255 255 255 255 255 255 255 255 255 255 255 255 255 255\n",
            "  255 234 204 255 255 255 255 255 205 255 255 255 255 255 255 255 255 255\n",
            "  255 255 255 255 255 255  48  48  48  48  48  48  48  48  48 255 255 255\n",
            "  255 255 255 255 255 255 241 119 119 119 119 119 119 119  64  64  64  64\n",
            "  119 119 119 107 111  64  64  64  64  64  64  64 253 255 255 255 255 255\n",
            "  255 255 255 255 255 255 255 255 255 255]\n",
            " [255 255 255 255 255 255 255 255 255 255 255 255 255 255 255 255 255 255\n",
            "  255 234 255 255 255 255 255 255 205 255 255 255 255 255 255 255 255 255\n",
            "  255 255 255 255 255 255  48  48  48  48  48  48  48  48  48 234 255 255\n",
            "  255 255 255 255 255 255 241 119 119 119 119 119 119 119  64  64  64  64\n",
            "  119 119 119 119 107  64  64  64 119 119 255 255 255 255 255 255 255 255\n",
            "  255 255 255 255 255 255 255 255 255 255]\n",
            " [255 255 255 255 255 255 255 255 255 255 255 255 255 255 255 255 255 255\n",
            "  255 235 255 255 255 255 255 255 205 255 255 255 255 255 255 255 255 255\n",
            "  255 255 255 255 255 184  48  48  48  48  48  48  48  48  48 112 255 255\n",
            "  255 255 255 255 255 255 241 119 119 119 119 119 119 119  64  64  64  64\n",
            "  119 119 119 119 107 107  64 119 119 119 181 255 255 255 255 255 255 255\n",
            "  255 255 255 255 255 255 255 255 255 255]\n",
            " [255 255 255 255 255 255 255 255 255 255 255 255 255 255 255 255 255 255\n",
            "  255 234 255 255 255 255 255 255 205 255 255 255 255 255 255 255 255 255\n",
            "  255 255 255 255 255  48  48  48  48  48  48  48  48  48  48  48 255 255\n",
            "  255 255 255 255 255 255 241 119 119 119 119 119 119 119  64  64  64  64\n",
            "  119 119 119 119 119 107 119 119 119 119 119 255 255 255 255 255 255 255\n",
            "  255 255 255 255 255 255 255 255 255 255]\n",
            " [255 255 255 255 255 255 255 255 255 255 255 255 255 255 255 255 255 255\n",
            "  255 235 255 255 255 255 255 255 205 255 255 255 255 255 255 255 255 255\n",
            "  255 255 255 255 255  48  48  48  48  48  48  48  48  48  48  48 255 255\n",
            "  255 255 255 255 255 255 241 119 119 119 119 119 119 119  64  64  64  64\n",
            "  119 119 119 119 119 110 107 119 119 119 119 119 255 255 255 255 255 255\n",
            "  255 255 255 255 255 255 255 255 255 255]\n",
            " [255 255 255 255 255 255 255 255 255 255 255 255 255 255 255 255 255 255\n",
            "  255 235 255 255 255 255 255 255 205 255 255 255 255 255 255 255 255 255\n",
            "  255 255 255 255 255  48  48  48  48  48  48 154  48  48  48  48 255 255\n",
            "  255 255 255 255 255 255 241 119 119 119 119 119 119 119  64  64  64  64\n",
            "  119 119 119 119 119 119 107 162 119 119 119 119 255 255 255 255 255 255\n",
            "  255 255 255 255 255 255 255 255 255 255]\n",
            " [255 255 255 255 255 255 255 255 255 255 255 255 255 255 255 255 255 255\n",
            "  255 235 255 255 255 255 255 255 205 255 255 255 255 255 255 255 255 255\n",
            "  255 255 255 255  80  48  48  48  48  48  48  75  48  48  48  48 255 255\n",
            "  255 255 255 255 255 255 241 119 119 119 119 119 119 119  64  64  64  64\n",
            "  119 119 119 119 119 119 119 255 119 119 119 119 119 255 255 255 255 255\n",
            "  255 255 255 255 255 255 255 255 255 255]\n",
            " [255 255 255 255 255 255 255 255 255 255 255 255 255 255 255 255 255 255\n",
            "  255 235 255 255 255 255 255 255 205 255 255 255 255 255 255 255 255 255\n",
            "  255 255 255 255  48  48  48  48  48  48 219  48  48  48  48  48 255 255\n",
            "  255 255 255 255 255 255 241 119 119 119 119 119 119 119  64  64  64  64\n",
            "  119 119 119 119 119 119 119 255 254 119 119 119 119 222 255 255 255 255\n",
            "  255 255 255 255 255 255 255 255 255 255]\n",
            " [255 255 255 255 255 255 255 255 255 255 255 255 255 255 255 255 255 255\n",
            "  255 235 255 255 255 255 255 255 205 255 255 255 255 255 255 255 255 255\n",
            "  255 255 255 255  48  48  48  48  48  48 255  48  48  48  48  48 255 255\n",
            "  255 255 255 255 255 255 241 119 119 119 119 119 119 119  64  64  64  64\n",
            "  119 119 119 119 119 119 119 255 255 119 119 119 119 119 255 255 255 255\n",
            "  255 255 255 255 255 255 255 255 255 255]\n",
            " [255 255 255 255 255 255 255 255 255 255 255 255 255 255 255 255 255 255\n",
            "  255 235 255 255 255 255 255 255 205 255 255 255 255 255 255 255 255 255\n",
            "  255 255 255 255  48  48  48  48  48 198 255  48  48  48  48  48 255 255\n",
            "  255 255 255 255 255 255 241 119 119 119 119 119 119 119  64  64  64  64\n",
            "  119 119 119 119 119 119 119 255 255 255 119 119 119 119 219 255 255 255\n",
            "  255 255 255 255 255 255 255 255 255 255]\n",
            " [255 255 255 255 255 255 255 255 255 255 255 255 255 255 255 255 255 255\n",
            "  255 234 255 255 255 255 255 255 205 255 255 255 255 255 255 255 255 255\n",
            "  255 255 255  48  48  48  48  48  48 255 255  48  48  48  48  48 255 255\n",
            "  255 255 255 255 255 255 241 119 119 119 119 119 119 119  64  64  64  64\n",
            "  119 119 119 119 119 119 119 255 255 255 126 119 119 119 255 255 255 255\n",
            "  255 255 255 255 255 255 255 255 255 255]\n",
            " [255 255 255 255 255 255 255 255 255 255 255 255 255 255 255 255 255 255\n",
            "  255 234 255 255 255 255 255 255 205 255 255 255 255 255 255 255 255 255\n",
            "  255 255 255 255  66  48  48  48 174 255 255  48  48  48  48  48 186 255\n",
            "  255 255 255 255 255 255 241 119 119 119 119 119 119 119  64  64  64  64\n",
            "  119 119 119 119 119 119 119 255 255 255 255 119 119 255 255 255 255 255\n",
            "  255 255 255 255 255 255 255 255 255 255]\n",
            " [255 255 255 255 255 255 255 255 255 255 255 255 255 255 255 255 255 255\n",
            "  255 234 255 255 255 255 255 255 205 255 255 255 255 255 255 255 255 255\n",
            "  255 255 255 255 207 205 254  48 255 255 255  48  48  48  48  48  72 255\n",
            "  255 255 255 255 255 255 241 119 119 119 119 119 119 119  64  64  64  64\n",
            "  119 119 119 119 119 119 119 255 255 255 255 255 255 255 255 255 255 255\n",
            "  255 255 255 255 255 255 255 255 255 255]\n",
            " [255 255 255 255 255 255 255 255 255 255 255 255 255 255 255 255 255 255\n",
            "  255 235 255 255 255 255 255 255 205 255 255 255 255 255 255 255 255 255\n",
            "  255 255 255 255 205 205 255 255 255 255 255 255 247 205 255 255 255 255\n",
            "  255 255 255 255 255 255 241 119 119 119 119 119 119 119  64  64  64  64\n",
            "  119 119 119 119 119 119 119 255 255 255 255 255 255 255 255 255 255 255\n",
            "  255 255 255 255 255 255 255 255 255 255]\n",
            " [255 255 255 255 255 255 255 255 255 255 255 255 255 255 255 255 255 255\n",
            "  255 235 255 255 255 255 255 255 205 255 255 255 255 255 255 255 255 255\n",
            "  255 255 255 204  48 255 255 255 255 255 255 255 247 205 255 255 255 255\n",
            "  255 255 255 255 255 255 241 119 119 119 119 119 119 119  64  64  64  64\n",
            "  119 119 119 119 119 119 119 255 255 255 255 255 255 255 255 255 255 255\n",
            "  255 255 255 255 255 255 255 255 255 255]\n",
            " [255 255 255 255 255 255 255 255 255 255 255 255 255 255 255 255 255 255\n",
            "  255 235 255 255 255 255 255 255 205 255 255 255 255 255 255 255 255 255\n",
            "  255 255 255  48  48  48  89 255 255 255 255 255 247 205 255 255 255 255\n",
            "  255 255 255 255 255 255 241 119 119 119 119 119 119 119  64  64  64  64\n",
            "  119 119 119 119 119 119 119 255 255 255 255 255 255 255 255 255 255 255\n",
            "  255 255 255 255 255 255 255 255 255 255]\n",
            " [255 255 255 255 255 255 255 255 255 255 255 255 255 255 255 255 255 255\n",
            "  255 235 255 255 255 255 255 255 205 255 255 255 255 255 255 255 255 255\n",
            "  255 255 255 255 183  48  48 255 255 255 255 255 235 196 243 255 255 255\n",
            "  255 255 255 255 255 255 241 119 119 119 119 119 119 119  64  64  64  64\n",
            "  119 119 119 119 119 119 119 255 255 255 255 255 255 255 255 255 255 255\n",
            "  255 255 255 255 255 255 255 255 255 255]\n",
            " [255 255 255 255 255 255 255 255 255 255 255 255 255 255 255 255 255 255\n",
            "  255 234 255 255 255 255 255 255 205 255 255 255 255 255 255 255 255 255\n",
            "  255 255 255 255 255 255 211 255 255 255 255 255  48  48  48  48 255 255\n",
            "  255 255 255 255 255 255 241 119 119 119 119 119 119 119  64  64  64  64\n",
            "  119 119 119 119 119 119 119 255 255 255 255 255 255 255 255 255 255 255\n",
            "  255 255 255 255 255 255 255 255 255 255]\n",
            " [255 255 255 255 255 255 255 255 255 255 255 255 255 255 255 255 255  91\n",
            "   91  91  91  91  91  91  91  91  91  91  91  91  91  91  91  91  91  91\n",
            "   91  91  91  91  91  91  91  91  91  91  91  91  66  66  66  66  91  91\n",
            "   91  91  91  91  91  91  91 119 119 119 119 119 119 119  64  64  64  64\n",
            "  119 119 119 119 119 119 119  91  91  91  91  91  91  91  91  91  91 255\n",
            "  255 255 255 255 255 255 255 255 255 255]\n",
            " [255 255 255 255 255 255 255 255 255 255 255 255 255 255 255 255 255 255\n",
            "  255 255 255 255 255 255 255 255 255 255 255 255 255 255 255 255 255 255\n",
            "  255 255 255 255 255 255 255 255 255 255 255 255 255 255 255 255 255 255\n",
            "  255 255 255 255 255 255 255 255 255 255 255 255 255 255 126 122 122 255\n",
            "  255 255 255 255 255 255 255 255 255 255 255 255 255 255 255 255 255 255\n",
            "  255 255 255 255 255 255 255 255 255 255]\n",
            " [255 255 255 255 255 255 255 255 255 255 255 255 255 255 255 255 255 255\n",
            "  255 255 255 255 255 255 255 255 255 255 255 255 255 255 255 255 255 255\n",
            "  255 255 255 255 255 255 255 255 255 255 255 255 255 255 255 255 255 255\n",
            "  255 255 255 255 255 255 255 255 255 255 255 255 255 255 255 255 255 255\n",
            "  255 255 255 255 255 255 255 255 255 255 255 255 255 255 255 255 255 255\n",
            "  255 255 255 255 255 255 255 255 255 255]\n",
            " [255 255 255 255 255 255 255 255 255 255 255 255 255 255 255 255 255 255\n",
            "  255 255 255 255 255 255 255 255 255 255 255 255 255 255 255 255 255 255\n",
            "  255 255 255 255 255 255 255 255 255 255 255 255 255 255 255 255 255 255\n",
            "  255 255 255 255 255 255 255 255 255 255 255 255 255 255 255 255 255 255\n",
            "  255 255 255 255 255 255 255 255 255 255 255 255 255 255 255 255 255 255\n",
            "  255 255 255 255 255 255 255 255 255 255]\n",
            " [255 255 255 255 255 255 255 255 255 255 255 255 255 255 255 255 255 255\n",
            "  255 255 255 255 255 255 255 255 255 255 255 255 255 255 255 255 255 255\n",
            "  255 255 255 255 255 255 255 255 255 255 255 255 255 255 255 255 255 255\n",
            "  255 255 255 255 255 255 255 255 255 255 255 255 255 255 255 255 255 255\n",
            "  255 255 255 255 255 255 255 255 255 255 255 255 255 255 255 255 255 255\n",
            "  255 255 255 255 255 255 255 255 255 255]\n",
            " [255 255 255 255 255 255 255 255 255 255 255 255 255 255 255 255 255 255\n",
            "  255 255 255 255 255 255 255 255 255 255 255 255 255 255 255 255 255 255\n",
            "  255 255 255 255 255 255 255 255 255 255 255 255 255 255 255 255 255 255\n",
            "  255 255 255 255 255 255 255 255 255 255 255 255 255 255 255 255 255 255\n",
            "  255 255 255 255 255 255 255 255 255 255 255 255 255 255 255 255 255 255\n",
            "  255 255 255 255 255 255 255 255 255 255]\n",
            " [255 255 255 255 255 255 255 255 255 255 255 255 255 255 255 255 255 255\n",
            "  255 255 255 255 255 255 255 255 255 255 255 255 255 255 255 255 255 255\n",
            "  255 255 255 255 255 255 255 255 255 255 255 255 255 255 255 255 255 255\n",
            "  255 255 255 255 255 255 255 255 255 255 255 255 255 255 255 255 255 255\n",
            "  255 255 255 255 255 255 255 255 255 255 255 255 255 255 255 255 255 255\n",
            "  255 255 255 255 255 255 255 255 255 255]\n",
            " [255 255 255 255 255 255 255 255 255 255 255 255 255 255 255 255 255 255\n",
            "  255 255 255 255 255 255 255 255 255 255 255 255 255 255 255 255 255 255\n",
            "  255 255 255 255 255 255 255 255 255 255 255 255 255 255 255 255 255 255\n",
            "  255 255 255 255 255 255 255 255 255 255 255 255 255 255 255 255 255 255\n",
            "  255 255 255 255 255 255 255 255 255 255 255 255 255 255 255 255 255 255\n",
            "  255 255 255 255 255 255 255 255 255 255]\n",
            " [255 255 255 255 255 255 255 255 255 255 255 255 255 255 255 255 255 255\n",
            "  255 255 255 255 255 255 255 255 255 255 255 255 255 255 255 255 255 255\n",
            "  255 255 255 255 255 255 255 255 255 255 255 255 255 255 255 255 255 255\n",
            "  255 255 255 255 255 255 255 255 255 255 255 255 255 255 255 255 255 255\n",
            "  255 255 255 255 255 255 255 255 255 255 255 255 255 255 255 255 255 255\n",
            "  255 255 255 255 255 255 255 255 255 255]\n",
            " [255 255 255 255 255 255 255 255 255 255 255 255 255 255 255 255 255 255\n",
            "  255 255 255 255 255 255 255 255 255 255 255 255 255 255 255 255 255 255\n",
            "  255 255 255 255 255 255 255 255 255 255 255 255 255 255 255 255 255 255\n",
            "  255 255 255 255 255 255 255 255 255 255 255 255 255 255 255 255 255 255\n",
            "  255 255 255 255 255 255 255 255 255 255 255 255 255 255 255 255 255 255\n",
            "  255 255 255 255 255 255 255 255 255 255]\n",
            " [255 255 255 255 255 255 255 255 255 255 255 255 255 255 255 255 255 255\n",
            "  255 255 255 255 255 255 255 255 255 255 255 255 255 255 255 255 255 255\n",
            "  255 255 255 255 255 255 255 255 255 255 255 255 255 255 255 255 255 255\n",
            "  255 255 255 255 255 255 255 255 255 255 255 255 255 255 255 255 255 255\n",
            "  255 255 255 255 255 255 255 255 255 255 255 255 255 255 255 255 255 255\n",
            "  255 255 255 255 255 255 255 255 255 255]]\n"
          ],
          "name": "stdout"
        }
      ]
    },
    {
      "cell_type": "markdown",
      "metadata": {
        "id": "AcYs7bBp8RfD"
      },
      "source": [
        "# Understanding Image Coordinate System"
      ]
    },
    {
      "cell_type": "code",
      "metadata": {
        "colab": {
          "base_uri": "https://localhost:8080/",
          "height": 287
        },
        "id": "9bn_qy4I8jzQ",
        "outputId": "047ac3fe-7af0-42f7-96b2-e33d08237987"
      },
      "source": [
        "color_image = cv2.imread(\"gift_box.png\")\n",
        "color_image = cv2.cvtColor(color_image, cv2.COLOR_BGR2RGB)\n",
        "plt.imshow(color_image)"
      ],
      "execution_count": 24,
      "outputs": [
        {
          "output_type": "execute_result",
          "data": {
            "text/plain": [
              "<matplotlib.image.AxesImage at 0x7f4b82b2fe50>"
            ]
          },
          "metadata": {
            "tags": []
          },
          "execution_count": 24
        },
        {
          "output_type": "display_data",
          "data": {
            "image/png": "[encoded data removed]",
            "text/plain": [
              "<Figure size 432x288 with 1 Axes>"
            ]
          },
          "metadata": {
            "tags": [],
            "needs_background": "light"
          }
        }
      ]
    },
    {
      "cell_type": "code",
      "metadata": {
        "id": "9z5_7K1HPMPs"
      },
      "source": [
        ""
      ],
      "execution_count": null,
      "outputs": []
    }
  ]
}